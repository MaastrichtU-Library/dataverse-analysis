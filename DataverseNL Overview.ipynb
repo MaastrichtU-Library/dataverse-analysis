{
 "cells": [
  {
   "cell_type": "markdown",
   "id": "48df26a2-5b9d-450c-81d1-7964fe145224",
   "metadata": {},
   "source": [
    "# DataverseNL Analysis at UM\n",
    "\n",
    "---"
   ]
  },
  {
   "cell_type": "markdown",
   "id": "57eef591-f737-4a6e-be76-eb49407f9be4",
   "metadata": {},
   "source": [
    "https://pydataverse.readthedocs.io/"
   ]
  },
  {
   "cell_type": "code",
   "execution_count": 1,
   "id": "5fe36000-ec4c-49c2-8ef3-c93a91fab4c8",
   "metadata": {},
   "outputs": [],
   "source": [
    "#!pip install -U pyDataverse == 3.1"
   ]
  },
  {
   "cell_type": "code",
   "execution_count": 2,
   "id": "2b186fa8-bdb2-447a-a894-c93e41ad9883",
   "metadata": {},
   "outputs": [],
   "source": [
    "import pandas as pd\n",
    "from pyDataverse.api import NativeApi, DataAccessApi\n",
    "from pyDataverse.models import Dataverse\n",
    "import requests"
   ]
  },
  {
   "cell_type": "code",
   "execution_count": 3,
   "id": "7d461c62-3e57-48c1-b3dc-4a050823809f",
   "metadata": {},
   "outputs": [],
   "source": [
    "# You need a token from Dataverse and put it on a txt file in this folder\n",
    "with open('TOKEN.txt', 'r') as file:\n",
    "    API_TOKEN = file.read().strip()"
   ]
  },
  {
   "cell_type": "code",
   "execution_count": 4,
   "id": "45543c1d-ee19-4ccc-a956-3b5470f2a738",
   "metadata": {},
   "outputs": [],
   "source": [
    "DATAVERSE = 'https://dataverse.nl/dataverse/maastricht'"
   ]
  },
  {
   "cell_type": "code",
   "execution_count": 5,
   "id": "c28cbc27-a650-4116-bb2b-1338fee88aa5",
   "metadata": {},
   "outputs": [
    {
     "name": "stdout",
     "output_type": "stream",
     "text": [
      "Successful connection to DataverseNL API!!\n"
     ]
    }
   ],
   "source": [
    "from pyDataverse.api import NativeApi\n",
    "\n",
    "BASE_URL = DATAVERSE.split('/dataverse/')[0]\n",
    "DATAVERSE_ID = DATAVERSE.split('/dataverse/')[1]\n",
    "\n",
    "api = NativeApi(BASE_URL, API_TOKEN)\n",
    "\n",
    "resp = api.get_info_version()\n",
    "if resp.json()['status'] == 'OK':\n",
    "    print('Successful connection to DataverseNL API!!')"
   ]
  },
  {
   "cell_type": "code",
   "execution_count": 6,
   "id": "51f5d2b5-9db5-4e0d-ae40-a9259292cb6e",
   "metadata": {},
   "outputs": [],
   "source": [
    "# Get list of sub-dataverses within the parent dataverse (dump in file to don't work in memory all the time)\n",
    "\n",
    "# import json\n",
    "\n",
    "# tree = api.get_children(DATAVERSE_ID, children_types=['dataverses','datasets'])\n",
    "\n",
    "# with open('data/dataverse_tree.json', 'w') as f:\n",
    "#     json.dump(tree, f)"
   ]
  },
  {
   "cell_type": "code",
   "execution_count": 7,
   "id": "7526caeb-b139-4155-98c0-757f5127171f",
   "metadata": {},
   "outputs": [],
   "source": [
    "import json\n",
    "\n",
    "with open('data/dataverse_tree.json', 'r') as f:\n",
    "    # Load the JSON data into a Python list\n",
    "    tree = json.load(f)"
   ]
  },
  {
   "cell_type": "code",
   "execution_count": 8,
   "id": "e396f0ea-c192-46fe-9cc9-627b0d17dfb1",
   "metadata": {},
   "outputs": [],
   "source": [
    "def get_datasets(dataverse):\n",
    "    dataverse_id = dataverse['dataverse_id']\n",
    "    headers = {\"X-Dataverse-key\": API_TOKEN}\n",
    "    url = f\"{BASE_URL}/api/dataverses/{dataverse_id}/contents\"\n",
    "    response = requests.get(url, headers=headers)\n",
    "    response_json = response.json()\n",
    "\n",
    "    # Check if 'data' key exists in the response\n",
    "    if 'data' not in response_json:\n",
    "        print(f\"Data key not found in response for dataverse_id {dataverse_id}\")\n",
    "        return {'data': []}  # Return an empty list for 'data' key\n",
    "\n",
    "    return response_json"
   ]
  },
  {
   "cell_type": "code",
   "execution_count": 9,
   "id": "1c58d20a-89e4-4882-8a92-20ac70a87e06",
   "metadata": {},
   "outputs": [],
   "source": [
    "# This is DACS from FSE\n",
    "#tree[5]['children'][1]\n",
    "\n",
    "#Usage get_datasets(tree[1])"
   ]
  },
  {
   "cell_type": "code",
   "execution_count": 10,
   "id": "d81cc3b7-c6d7-4f0a-90da-67b7a44101ad",
   "metadata": {},
   "outputs": [
    {
     "name": "stdout",
     "output_type": "stream",
     "text": [
      "Data key not found in response for dataverse_id 25264\n",
      "Data key not found in response for dataverse_id 309780\n"
     ]
    }
   ],
   "source": [
    "# Loop through sub-dataverses and get datasets and department information\n",
    "\n",
    "datasets_list = []\n",
    "for faculty in tree:\n",
    "    if faculty['type'] != 'dataverse':\n",
    "        continue\n",
    "    faculty_name = faculty['title']\n",
    "    has_departments = False\n",
    "    for department in faculty['children']:\n",
    "        if department['type'] != 'dataverse':\n",
    "            continue\n",
    "        has_departments = True\n",
    "        department_name = department['title']\n",
    "        datasets = get_datasets(department)\n",
    "        for dataset in datasets['data']:\n",
    "            publicationDate = dataset.get('publicationDate')\n",
    "            if publicationDate is None:\n",
    "                continue\n",
    "            persistent_url = dataset.get('persistentUrl')\n",
    "            if persistent_url is None:\n",
    "                continue\n",
    "            dataset_info = {\n",
    "                'faculty': faculty_name,\n",
    "                'department': department_name,\n",
    "                'year': publicationDate[0:4],\n",
    "                'date': publicationDate,\n",
    "                'persistentUrl': persistent_url\n",
    "            }\n",
    "            datasets_list.append(dataset_info)\n",
    "    if not has_departments:\n",
    "        # Create a temporary department name\n",
    "        department_name = 'No department'\n",
    "        datasets = get_datasets(faculty)\n",
    "        for dataset in datasets['data']:\n",
    "            publicationDate = dataset.get('publicationDate')\n",
    "            if publicationDate is None:\n",
    "                continue\n",
    "            persistent_url = dataset.get('persistentUrl')\n",
    "            if persistent_url is None:\n",
    "                continue\n",
    "            dataset_info = {\n",
    "                'faculty': faculty_name,\n",
    "                'department': department_name,\n",
    "                'year': publicationDate[0:4],\n",
    "                'date': publicationDate,\n",
    "                'persistentUrl': persistent_url\n",
    "            }\n",
    "            datasets_list.append(dataset_info)\n",
    "\n",
    "df = pd.DataFrame(datasets_list)"
   ]
  },
  {
   "cell_type": "code",
   "execution_count": 11,
   "id": "c20a1a3a-eb35-4ab9-afe8-b0538e549090",
   "metadata": {},
   "outputs": [
    {
     "data": {
      "text/plain": [
       "420"
      ]
     },
     "execution_count": 11,
     "metadata": {},
     "output_type": "execute_result"
    }
   ],
   "source": [
    "len(df) # The number of datasets is Published (620) - Draft (105) - Unpublished (99)- Deaccessioned (2) - In Review (2) #CHECKED ON 12 MARCH 2023 CORRECT!!"
   ]
  },
  {
   "cell_type": "code",
   "execution_count": 12,
   "id": "c7a3dad7-82b6-4e52-97c9-9ee99b828347",
   "metadata": {},
   "outputs": [],
   "source": [
    "# Create the dictionary to map the original faculty names to the new tags\n",
    "faculty_dict = {'Faculty of Psychology and Neuroscience': 'FPN',\n",
    "                'Faculty of Business and Economics': 'SBE',\n",
    "                'Faculty of Health, Medicine and Life Sciences': 'FHML',\n",
    "                'Faculty of Arts and Social Sciences': 'FASoS',\n",
    "                'Faculty of Law': 'FdR',\n",
    "                'Faculty of Science and Engineering': 'FSE',\n",
    "                'UNU-MERIT': 'UNU-MERIT',\n",
    "                'DataHub': 'DataHub & MUMC+',\n",
    "                'Maastricht UMC+': 'DataHub & MUMC+'}\n",
    "\n",
    "# Replace the original faculty names with the new tags\n",
    "df.faculty = df.faculty.replace(faculty_dict)"
   ]
  },
  {
   "cell_type": "code",
   "execution_count": 13,
   "id": "78db0389-4fae-4596-a4cd-e99135fb56b6",
   "metadata": {},
   "outputs": [
    {
     "data": {
      "text/html": [
       "<div>\n",
       "<style scoped>\n",
       "    .dataframe tbody tr th:only-of-type {\n",
       "        vertical-align: middle;\n",
       "    }\n",
       "\n",
       "    .dataframe tbody tr th {\n",
       "        vertical-align: top;\n",
       "    }\n",
       "\n",
       "    .dataframe thead th {\n",
       "        text-align: right;\n",
       "    }\n",
       "</style>\n",
       "<table border=\"1\" class=\"dataframe\">\n",
       "  <thead>\n",
       "    <tr style=\"text-align: right;\">\n",
       "      <th></th>\n",
       "      <th>faculty</th>\n",
       "      <th>department</th>\n",
       "      <th>year</th>\n",
       "      <th>date</th>\n",
       "      <th>persistentUrl</th>\n",
       "    </tr>\n",
       "  </thead>\n",
       "  <tbody>\n",
       "    <tr>\n",
       "      <th>0</th>\n",
       "      <td>FPN</td>\n",
       "      <td>Clinical Psychological Science</td>\n",
       "      <td>2014</td>\n",
       "      <td>2014-08-13</td>\n",
       "      <td>https://doi.org/10.34894/CTDUVD</td>\n",
       "    </tr>\n",
       "    <tr>\n",
       "      <th>1</th>\n",
       "      <td>FPN</td>\n",
       "      <td>Clinical Psychological Science</td>\n",
       "      <td>2014</td>\n",
       "      <td>2014-03-12</td>\n",
       "      <td>https://doi.org/10.34894/9EXOFE</td>\n",
       "    </tr>\n",
       "    <tr>\n",
       "      <th>2</th>\n",
       "      <td>FPN</td>\n",
       "      <td>Clinical Psychological Science</td>\n",
       "      <td>2014</td>\n",
       "      <td>2014-05-26</td>\n",
       "      <td>https://doi.org/10.34894/FFCOKX</td>\n",
       "    </tr>\n",
       "    <tr>\n",
       "      <th>3</th>\n",
       "      <td>FPN</td>\n",
       "      <td>Clinical Psychological Science</td>\n",
       "      <td>2014</td>\n",
       "      <td>2014-12-24</td>\n",
       "      <td>https://doi.org/10.34894/AVBSW9</td>\n",
       "    </tr>\n",
       "    <tr>\n",
       "      <th>4</th>\n",
       "      <td>FPN</td>\n",
       "      <td>Clinical Psychological Science</td>\n",
       "      <td>2014</td>\n",
       "      <td>2014-02-27</td>\n",
       "      <td>https://doi.org/10.34894/QA0WSV</td>\n",
       "    </tr>\n",
       "  </tbody>\n",
       "</table>\n",
       "</div>"
      ],
      "text/plain": [
       "  faculty                      department  year        date  \\\n",
       "0     FPN  Clinical Psychological Science  2014  2014-08-13   \n",
       "1     FPN  Clinical Psychological Science  2014  2014-03-12   \n",
       "2     FPN  Clinical Psychological Science  2014  2014-05-26   \n",
       "3     FPN  Clinical Psychological Science  2014  2014-12-24   \n",
       "4     FPN  Clinical Psychological Science  2014  2014-02-27   \n",
       "\n",
       "                     persistentUrl  \n",
       "0  https://doi.org/10.34894/CTDUVD  \n",
       "1  https://doi.org/10.34894/9EXOFE  \n",
       "2  https://doi.org/10.34894/FFCOKX  \n",
       "3  https://doi.org/10.34894/AVBSW9  \n",
       "4  https://doi.org/10.34894/QA0WSV  "
      ]
     },
     "execution_count": 13,
     "metadata": {},
     "output_type": "execute_result"
    }
   ],
   "source": [
    "df.head()"
   ]
  },
  {
   "cell_type": "code",
   "execution_count": 19,
   "id": "375afc87-ddfa-40d2-b639-ca5541e8d1fc",
   "metadata": {},
   "outputs": [],
   "source": [
    "# Create DataFrame and group by department and year\n",
    "df['count'] = 1\n",
    "df_grouped = df.groupby(['faculty', 'year'])['count'].sum()\n",
    "\n",
    "# Pivot the table to show years as columns\n",
    "df_pivot = df_grouped.reset_index().pivot(index='faculty', columns='year', values='count').fillna(0)\n",
    "\n",
    "# Calculate relative percentages\n",
    "df_relative = df_pivot.apply(lambda x: round(x / x.sum() * 100,2), axis=1)\n",
    "\n",
    "df_relative.to_excel('data/dataverse_relative.xlsx')"
   ]
  },
  {
   "cell_type": "code",
   "execution_count": 20,
   "id": "cad2fdcc-4c90-4428-b90e-132140461c6d",
   "metadata": {},
   "outputs": [],
   "source": [
    "# Create DataFrame and group by department and year ABSOLUT\n",
    "df['count'] = 1\n",
    "df_grouped = df.groupby(['faculty', 'year'])['count'].sum()\n",
    "\n",
    "# Pivot the table to show years as columns\n",
    "df_pivot = df_grouped.reset_index().pivot(index='faculty', columns='year', values='count').fillna(0)\n",
    "\n",
    "# Calculate relative percentages\n",
    "df_absolute = df_pivot.apply(lambda x: round(x,2), axis=1)\n",
    "\n",
    "df_absolute.to_excel('data/dataverse_absolute.xlsx')"
   ]
  },
  {
   "cell_type": "code",
   "execution_count": 16,
   "id": "c1c7457a-0719-4dae-b297-30a6621781bf",
   "metadata": {},
   "outputs": [
    {
     "data": {
      "image/png": "[encoded data removed]",
      "text/plain": [
       "<Figure size 432x288 with 1 Axes>"
      ]
     },
     "metadata": {},
     "output_type": "display_data"
    }
   ],
   "source": [
    "import seaborn as sns\n",
    "import matplotlib.pyplot as plt\n",
    "\n",
    "sns.set_style(\"darkgrid\") #darkgrid, whitegrid, dark, white, and ticks\n",
    "\n",
    "# Group the data by year and get the counts\n",
    "counts = df.groupby('year').size().reset_index(name='count')\n",
    "\n",
    "# Calculate the cumulative sum of counts\n",
    "counts['cumulative'] = counts['count'].cumsum()\n",
    "\n",
    "# Create a bar plot of cumulative counts by year\n",
    "sns.barplot(x='year', y='cumulative', data=counts, color='orange') #steelblue\n",
    "\n",
    "# Set the x and y-axis labels\n",
    "plt.xlabel('Year', fontsize=18)\n",
    "plt.ylabel('Datasets', fontsize=18)\n",
    "\n",
    "plt.savefig('plots/runningTotal.png', dpi=300, bbox_inches='tight')"
   ]
  },
  {
   "cell_type": "code",
   "execution_count": 17,
   "id": "764b61bf-6570-4884-a57a-8452b086dece",
   "metadata": {},
   "outputs": [
    {
     "data": {
      "image/png": "[encoded data removed]",
      "text/plain": [
       "<Figure size 720x576 with 2 Axes>"
      ]
     },
     "metadata": {},
     "output_type": "display_data"
    }
   ],
   "source": [
    "import seaborn as sns\n",
    "import matplotlib.pyplot as plt\n",
    "\n",
    "# Define a custom blue colormap\n",
    "cmap = sns.color_palette(\"Blues\", as_cmap=True)\n",
    "\n",
    "# Set the font size for the plot\n",
    "sns.set(font_scale=1)\n",
    "\n",
    "# Create the heatmap using Seaborn\n",
    "fig, ax = plt.subplots(figsize=(10, 8))\n",
    "sns.heatmap(df_relative, cmap=cmap, annot=True, linewidths=0.5, ax=ax) #fmt='%.2f%%', \n",
    "for t in ax.texts: t.set_text(t.get_text() + \" %\")\n",
    "\n",
    "# Set the x and y-axis labels\n",
    "ax.set_xlabel('Year', fontsize=18)\n",
    "ax.set_ylabel('Faculty', fontsize=18)\n",
    "\n",
    "# Save the plot as a PNG file\n",
    "plt.savefig('plots/heatmapRelative.png', dpi=300, bbox_inches='tight')\n"
   ]
  }
 ],
 "metadata": {
  "kernelspec": {
   "display_name": "Python 3 (ipykernel)",
   "language": "python",
   "name": "python3"
  },
  "language_info": {
   "codemirror_mode": {
    "name": "ipython",
    "version": 3
   },
   "file_extension": ".py",
   "mimetype": "text/x-python",
   "name": "python",
   "nbconvert_exporter": "python",
   "pygments_lexer": "ipython3",
   "version": "3.9.7"
  }
 },
 "nbformat": 4,
 "nbformat_minor": 5
}
